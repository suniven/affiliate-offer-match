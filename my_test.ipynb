{
 "cells": [
  {
   "cell_type": "code",
   "execution_count": 7,
   "metadata": {},
   "outputs": [],
   "source": [
    "import pandas as pd\n",
    "\n",
    "with open('./query.txt', 'r') as f:\n",
    "    list=f.readlines()\n",
    "keyword=[]\n",
    "for domain in list:\n",
    "    a = domain.strip().split('.')[-2]\n",
    "    if len(a)>2:\n",
    "        keyword.append(a)\n",
    "df = pd.DataFrame(keyword, columns=[\"keyword\"])\n",
    "df.to_csv('./keyword.csv', index=False)"
   ]
  }
 ],
 "metadata": {
  "kernelspec": {
   "display_name": "Python 3.8.12 ('py38')",
   "language": "python",
   "name": "python3"
  },
  "language_info": {
   "codemirror_mode": {
    "name": "ipython",
    "version": 3
   },
   "file_extension": ".py",
   "mimetype": "text/x-python",
   "name": "python",
   "nbconvert_exporter": "python",
   "pygments_lexer": "ipython3",
   "version": "3.8.12"
  },
  "orig_nbformat": 4,
  "vscode": {
   "interpreter": {
    "hash": "aef1b1a3732fc5e65c852b8ce7773114d777f0f26fa8518baff740de7d177da9"
   }
  }
 },
 "nbformat": 4,
 "nbformat_minor": 2
}
